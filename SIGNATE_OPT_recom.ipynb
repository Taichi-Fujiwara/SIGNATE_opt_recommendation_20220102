{
  "cells": [
    {
      "cell_type": "markdown",
      "metadata": {
        "id": "view-in-github",
        "colab_type": "text"
      },
      "source": [
        "<a href=\"https://colab.research.google.com/github/Taichi-Fujiwara/SIGNATE_opt_recommendation_20220102/blob/main/SIGNATE_OPT_recom.ipynb\" target=\"_parent\"><img src=\"https://colab.research.google.com/assets/colab-badge.svg\" alt=\"Open In Colab\"/></a>"
      ]
    },
    {
      "cell_type": "markdown",
      "metadata": {
        "id": "jM9-oRUeEHS4"
      },
      "source": [
        "---\n",
        "# 数字把握"
      ]
    },
    {
      "cell_type": "code",
      "execution_count": null,
      "metadata": {
        "id": "ruzv83gEHk70"
      },
      "outputs": [],
      "source": [
        "# !pip install --upgrade pandas_profiling"
      ]
    },
    {
      "cell_type": "code",
      "execution_count": null,
      "metadata": {
        "id": "rccoIdgH78EL"
      },
      "outputs": [],
      "source": [
        "#ライブラリ\n",
        "import numpy as np\n",
        "import pandas as pd\n",
        "import pandas_profiling as pdp\n",
        "import matplotlib.pyplot as plt\n",
        "# from xgboost import XGBRFClassifier\n",
        "import xgboost as xgb\n",
        "from sklearn.model_selection import train_test_split\n",
        "import seaborn as sns\n",
        "\n",
        "from sklearn.svm import SVC\n",
        "from sklearn.model_selection import GridSearchCV, train_test_split\n",
        "from sklearn.metrics import confusion_matrix\n",
        "\n",
        "from pylab import rcParams"
      ]
    },
    {
      "cell_type": "code",
      "execution_count": null,
      "metadata": {
        "id": "1FnZlpVc6xe9"
      },
      "outputs": [],
      "source": [
        "# csvデータ取得\n",
        "# trainPath = \"/content/drive/MyDrive/Colab Notebooks/SIGNATE/20220102_opt/train\"\n",
        "# testPath = \"/content/drive/MyDrive/Colab Notebooks/SIGNATE/20220102_opt/test.tsv\"\n",
        "# sampleSubmitPath = \"/content/drive/MyDrive/Colab Notebooks/SIGNATE/20220102_opt/sample_submit.tsv\"\n",
        "trainPath = \"train\"\n",
        "testPath = \"test.tsv\"\n",
        "sampleSubmitPath = \"sample_submit.tsv\"\n",
        "\n",
        "# 目的変数\n",
        "target= \"product_id\"\n",
        "nDCG = 0\n",
        "\n",
        "trainA = pd.read_table(trainPath+\"/train_A.tsv\")\n",
        "trainB = pd.read_table(trainPath+\"/train_B.tsv\")\n",
        "trainC = pd.read_table(trainPath+\"/train_C.tsv\")\n",
        "trainD = pd.read_table(trainPath+\"/train_D.tsv\")\n",
        "\n",
        "test = pd.read_table(testPath)\n",
        "\n",
        "# 応募用サンプルファイル\n",
        "sample_submit = pd.read_table(sampleSubmitPath)\n",
        "\n",
        "# print(\n",
        "#     train.shape,\n",
        "#     test.shape,\n",
        "#     sample_submit.shape\n",
        "# )"
      ]
    },
    {
      "cell_type": "markdown",
      "metadata": {
        "id": "2qAglrjcfD2R"
      },
      "source": [
        "event_type* event_type：行動種別（コンバージョン:3, クリック:2, 閲覧:1, カート:0） \n",
        "\n",
        "* ad：(cv)コンバージョンが広告経由か否か。コンバージョンではない場合は-1\n",
        "\n",
        "* train_A.tsv, train_B.tsv, train_C.tsv, train_D.tsvはそれぞれ人材、旅行、不動産、アパレルのデータです\n",
        "\n",
        "* time_stamp：yyyy-mm-dd hh:mm:ss.sss"
      ]
    },
    {
      "cell_type": "code",
      "execution_count": null,
      "metadata": {
        "collapsed": true,
        "id": "NWRgbVQpGijW",
        "jupyter": {
          "outputs_hidden": true
        },
        "tags": [],
        "outputId": "52e83063-6bb1-44d7-8c9f-45b7bb6bd12d"
      },
      "outputs": [
        {
          "data": {
            "text/plain": [
              "event_type\n",
              "1             1981780\n",
              "0             1286738\n",
              "3               74561\n",
              "2               33414\n",
              "dtype: int64"
            ]
          },
          "execution_count": 4,
          "metadata": {},
          "output_type": "execute_result"
        }
      ],
      "source": [
        "# 人材\n",
        "trainA.value_counts(subset=['event_type'])"
      ]
    },
    {
      "cell_type": "code",
      "execution_count": null,
      "metadata": {
        "collapsed": true,
        "id": "AHevJaVm8ARe",
        "jupyter": {
          "outputs_hidden": true
        },
        "tags": [],
        "outputId": "3b27045b-0f5b-4fcb-8e6e-aafad7a51e8e"
      },
      "outputs": [
        {
          "data": {
            "text/plain": [
              "event_type\n",
              "1             1035637\n",
              "0               52639\n",
              "3               21710\n",
              "2                3439\n",
              "dtype: int64"
            ]
          },
          "execution_count": 5,
          "metadata": {},
          "output_type": "execute_result"
        }
      ],
      "source": [
        "# 旅行\n",
        "trainB.value_counts(subset=['event_type'])"
      ]
    },
    {
      "cell_type": "code",
      "execution_count": null,
      "metadata": {
        "collapsed": true,
        "id": "nVxHeevwFWfo",
        "jupyter": {
          "outputs_hidden": true
        },
        "tags": [],
        "outputId": "6f45a2d3-1e00-42fd-b8a9-7beb6982ff8f"
      },
      "outputs": [
        {
          "data": {
            "text/plain": [
              "event_type\n",
              "1             1650622\n",
              "2               14670\n",
              "3                1358\n",
              "dtype: int64"
            ]
          },
          "execution_count": 6,
          "metadata": {},
          "output_type": "execute_result"
        }
      ],
      "source": [
        "# 不動産\n",
        "trainC.value_counts(subset=['event_type'])"
      ]
    },
    {
      "cell_type": "code",
      "execution_count": null,
      "metadata": {
        "collapsed": true,
        "id": "GGzrbNtUCNU8",
        "jupyter": {
          "outputs_hidden": true
        },
        "tags": [],
        "outputId": "8c21af51-4099-45b4-c45c-bdc4d635b900"
      },
      "outputs": [
        {
          "data": {
            "text/plain": [
              "event_type\n",
              "0             2522371\n",
              "1             1049690\n",
              "3                 781\n",
              "dtype: int64"
            ]
          },
          "execution_count": 7,
          "metadata": {},
          "output_type": "execute_result"
        }
      ],
      "source": [
        "# アパレル\n",
        "trainD.value_counts(subset=['event_type'])"
      ]
    },
    {
      "cell_type": "code",
      "execution_count": null,
      "metadata": {
        "colab": {
          "base_uri": "https://localhost:8080/"
        },
        "collapsed": true,
        "id": "8sxxFMNKhuYM",
        "jupyter": {
          "outputs_hidden": true
        },
        "outputId": "1f90914c-9b4e-4f23-829e-dd1788e52d2b",
        "tags": []
      },
      "outputs": [
        {
          "data": {
            "text/plain": [
              "product_id\n",
              "00005175_a    11688\n",
              "00013874_a     9742\n",
              "00004347_a     9193\n",
              "00001225_a     8368\n",
              "00005844_a     8172\n",
              "              ...  \n",
              "00010035_a        1\n",
              "00012151_a        1\n",
              "00005353_a        1\n",
              "00003302_a        1\n",
              "00007373_a        1\n",
              "Length: 13866, dtype: int64"
            ]
          },
          "execution_count": 8,
          "metadata": {},
          "output_type": "execute_result"
        }
      ],
      "source": [
        "trainA.value_counts(subset=['product_id'])"
      ]
    },
    {
      "cell_type": "markdown",
      "metadata": {
        "id": "iDP-bRLeED9H"
      },
      "source": [
        "---\n",
        "# 特徴量作成"
      ]
    },
    {
      "cell_type": "code",
      "execution_count": null,
      "metadata": {
        "id": "cQdS9lJ7COuQ"
      },
      "outputs": [],
      "source": [
        "# 時間を分ける\n",
        "# time_stamp：yyyy-mm-dd hh:mm:ss.sss\n",
        "\n",
        "trainA[\"year\"] = trainA[\"time_stamp\"].str[:4].astype('int')\n",
        "trainA[\"month\"] = trainA[\"time_stamp\"].str[5:7].astype('int')\n",
        "trainA[\"day\"] = trainA[\"time_stamp\"].str[8:10].astype('int')\n",
        "trainA[\"hour\"] = trainA[\"time_stamp\"].str[11:13].astype('int')\n",
        "trainA[\"min\"] = trainA[\"time_stamp\"].str[14:16].astype('int')\n",
        "trainA[\"sec\"] = trainA[\"time_stamp\"].str[17:19].astype('int')\n",
        "\n",
        "trainB[\"year\"] = trainB[\"time_stamp\"].str[:4].astype('int')\n",
        "trainB[\"month\"] = trainB[\"time_stamp\"].str[5:7].astype('int')\n",
        "trainB[\"day\"] = trainB[\"time_stamp\"].str[8:10].astype('int')\n",
        "trainB[\"hour\"] = trainB[\"time_stamp\"].str[11:13].astype('int')\n",
        "trainB[\"min\"] = trainB[\"time_stamp\"].str[14:16].astype('int')\n",
        "trainB[\"sec\"] = trainB[\"time_stamp\"].str[17:19].astype('int')\n",
        "\n",
        "trainC[\"year\"] = trainC[\"time_stamp\"].str[:4].astype('int')\n",
        "trainC[\"month\"] = trainC[\"time_stamp\"].str[5:7].astype('int')\n",
        "trainC[\"day\"] = trainC[\"time_stamp\"].str[8:10].astype('int')\n",
        "trainC[\"hour\"] = trainC[\"time_stamp\"].str[11:13].astype('int')\n",
        "trainC[\"min\"] = trainC[\"time_stamp\"].str[14:16].astype('int')\n",
        "trainC[\"sec\"] = trainC[\"time_stamp\"].str[17:19].astype('int')\n",
        "\n",
        "trainD[\"year\"] = trainD[\"time_stamp\"].str[:4].astype('int')\n",
        "trainD[\"month\"] = trainD[\"time_stamp\"].str[5:7].astype('int')\n",
        "trainD[\"day\"] = trainD[\"time_stamp\"].str[8:10].astype('int')\n",
        "trainD[\"hour\"] = trainD[\"time_stamp\"].str[11:13].astype('int')\n",
        "trainD[\"min\"] = trainD[\"time_stamp\"].str[14:16].astype('int')\n",
        "trainD[\"sec\"] = trainD[\"time_stamp\"].str[17:19].astype('int')"
      ]
    },
    {
      "cell_type": "markdown",
      "metadata": {
        "id": "VA5o65dWH6b3"
      },
      "source": [
        "---\n",
        "モデリング"
      ]
    },
    {
      "cell_type": "code",
      "execution_count": null,
      "metadata": {
        "colab": {
          "base_uri": "https://localhost:8080/"
        },
        "id": "Bb4apGWwE53i",
        "outputId": "8111c939-f2f7-4170-bc19-7616d1f2c7ff"
      },
      "outputs": [
        {
          "name": "stdout",
          "output_type": "stream",
          "text": [
            "trainA : (3376493, 11)\n",
            "df_all : (9741008, 11)\n"
          ]
        }
      ],
      "source": [
        "# xgboostで実装\n",
        "\n",
        "#データ結合\n",
        "train_all = pd.concat([trainA,trainB,trainC,trainD])\n",
        "train_y_all = pd.DataFrame(\n",
        "    data={\n",
        "        'product_id': train_all[target]\n",
        "         })\n",
        "\n",
        "length = train_all.shape[0]\n",
        "\n",
        "df_all = pd.concat([train_all,test])\n",
        "\n",
        "print(\"trainA :\",trainA.shape)\n",
        "print(\"df_all :\",df_all.shape)\n",
        "\n",
        "# df_all.drop(target, axis = 1)\n",
        "\n",
        "# ダミー変数化\n",
        "# df_all = pd.get_dummies(df_all)"
      ]
    },
    {
      "cell_type": "code",
      "execution_count": null,
      "metadata": {
        "id": "nCDTeuAUk6CV"
      },
      "outputs": [],
      "source": [
        "# カテゴリ変数のラベリング\n",
        "from sklearn import preprocessing\n",
        "from sklearn.preprocessing import LabelEncoder\n",
        "\n",
        "# 目的変数の対応表作成\n",
        "LE = LabelEncoder()\n",
        "df_all_targegt_index = pd.DataFrame(\n",
        "    data={\n",
        "        'product_id': df_all[\"product_id\"],\n",
        "        'product_index':LE.fit_transform(df_all[\"product_id\"].values)\n",
        "         })\n",
        "\n",
        "train_y_all_index = pd.DataFrame(\n",
        "    data={\n",
        "        'product_id': train_y_all[\"product_id\"],\n",
        "        'product_index':LE.fit_transform(train_y_all[\"product_id\"].values)\n",
        "         })\n",
        "\n",
        "\n",
        "# ラベルエンコーディング\n",
        "df_all[\"product_id\"] = LE.fit_transform(df_all[\"product_id\"].values)\n",
        "df_all[\"user_id\"] = LE.fit_transform(df_all[\"user_id\"].values)\n",
        "df_all[\"time_stamp\"] = LE.fit_transform(df_all[\"time_stamp\"].values)\n",
        "train_y_all[\"product_id\"] = LE.fit_transform(train_y_all[\"product_id\"].values)"
      ]
    },
    {
      "cell_type": "code",
      "execution_count": null,
      "metadata": {
        "id": "P5C00VPUJRAj",
        "outputId": "cf27dda1-cf9a-4866-f41d-b3fdf6269fb4"
      },
      "outputs": [
        {
          "data": {
            "text/html": [
              "<div>\n",
              "<style scoped>\n",
              "    .dataframe tbody tr th:only-of-type {\n",
              "        vertical-align: middle;\n",
              "    }\n",
              "\n",
              "    .dataframe tbody tr th {\n",
              "        vertical-align: top;\n",
              "    }\n",
              "\n",
              "    .dataframe thead th {\n",
              "        text-align: right;\n",
              "    }\n",
              "</style>\n",
              "<table border=\"1\" class=\"dataframe\">\n",
              "  <thead>\n",
              "    <tr style=\"text-align: right;\">\n",
              "      <th></th>\n",
              "      <th>user_id</th>\n",
              "      <th>product_id</th>\n",
              "      <th>event_type</th>\n",
              "      <th>ad</th>\n",
              "      <th>time_stamp</th>\n",
              "      <th>year</th>\n",
              "      <th>month</th>\n",
              "      <th>day</th>\n",
              "      <th>hour</th>\n",
              "      <th>min</th>\n",
              "      <th>sec</th>\n",
              "    </tr>\n",
              "  </thead>\n",
              "  <tbody>\n",
              "    <tr>\n",
              "      <th>0</th>\n",
              "      <td>0</td>\n",
              "      <td>36766</td>\n",
              "      <td>1.0</td>\n",
              "      <td>-1.0</td>\n",
              "      <td>2166144</td>\n",
              "      <td>2017.0</td>\n",
              "      <td>4.0</td>\n",
              "      <td>8.0</td>\n",
              "      <td>12.0</td>\n",
              "      <td>9.0</td>\n",
              "      <td>4.0</td>\n",
              "    </tr>\n",
              "    <tr>\n",
              "      <th>1</th>\n",
              "      <td>0</td>\n",
              "      <td>36766</td>\n",
              "      <td>1.0</td>\n",
              "      <td>-1.0</td>\n",
              "      <td>7574540</td>\n",
              "      <td>2017.0</td>\n",
              "      <td>4.0</td>\n",
              "      <td>27.0</td>\n",
              "      <td>12.0</td>\n",
              "      <td>55.0</td>\n",
              "      <td>57.0</td>\n",
              "    </tr>\n",
              "    <tr>\n",
              "      <th>2</th>\n",
              "      <td>0</td>\n",
              "      <td>55915</td>\n",
              "      <td>1.0</td>\n",
              "      <td>-1.0</td>\n",
              "      <td>2163119</td>\n",
              "      <td>2017.0</td>\n",
              "      <td>4.0</td>\n",
              "      <td>8.0</td>\n",
              "      <td>11.0</td>\n",
              "      <td>57.0</td>\n",
              "      <td>53.0</td>\n",
              "    </tr>\n",
              "    <tr>\n",
              "      <th>3</th>\n",
              "      <td>0</td>\n",
              "      <td>4989</td>\n",
              "      <td>1.0</td>\n",
              "      <td>-1.0</td>\n",
              "      <td>2164893</td>\n",
              "      <td>2017.0</td>\n",
              "      <td>4.0</td>\n",
              "      <td>8.0</td>\n",
              "      <td>12.0</td>\n",
              "      <td>4.0</td>\n",
              "      <td>26.0</td>\n",
              "    </tr>\n",
              "    <tr>\n",
              "      <th>4</th>\n",
              "      <td>0</td>\n",
              "      <td>13180</td>\n",
              "      <td>1.0</td>\n",
              "      <td>-1.0</td>\n",
              "      <td>2165187</td>\n",
              "      <td>2017.0</td>\n",
              "      <td>4.0</td>\n",
              "      <td>8.0</td>\n",
              "      <td>12.0</td>\n",
              "      <td>5.0</td>\n",
              "      <td>31.0</td>\n",
              "    </tr>\n",
              "    <tr>\n",
              "      <th>...</th>\n",
              "      <td>...</td>\n",
              "      <td>...</td>\n",
              "      <td>...</td>\n",
              "      <td>...</td>\n",
              "      <td>...</td>\n",
              "      <td>...</td>\n",
              "      <td>...</td>\n",
              "      <td>...</td>\n",
              "      <td>...</td>\n",
              "      <td>...</td>\n",
              "      <td>...</td>\n",
              "    </tr>\n",
              "    <tr>\n",
              "      <th>3572837</th>\n",
              "      <td>231809</td>\n",
              "      <td>359064</td>\n",
              "      <td>0.0</td>\n",
              "      <td>-1.0</td>\n",
              "      <td>6801738</td>\n",
              "      <td>2017.0</td>\n",
              "      <td>4.0</td>\n",
              "      <td>25.0</td>\n",
              "      <td>0.0</td>\n",
              "      <td>30.0</td>\n",
              "      <td>27.0</td>\n",
              "    </tr>\n",
              "    <tr>\n",
              "      <th>3572838</th>\n",
              "      <td>231809</td>\n",
              "      <td>364829</td>\n",
              "      <td>0.0</td>\n",
              "      <td>-1.0</td>\n",
              "      <td>6809150</td>\n",
              "      <td>2017.0</td>\n",
              "      <td>4.0</td>\n",
              "      <td>25.0</td>\n",
              "      <td>1.0</td>\n",
              "      <td>0.0</td>\n",
              "      <td>55.0</td>\n",
              "    </tr>\n",
              "    <tr>\n",
              "      <th>3572839</th>\n",
              "      <td>231809</td>\n",
              "      <td>116774</td>\n",
              "      <td>0.0</td>\n",
              "      <td>-1.0</td>\n",
              "      <td>6801472</td>\n",
              "      <td>2017.0</td>\n",
              "      <td>4.0</td>\n",
              "      <td>25.0</td>\n",
              "      <td>0.0</td>\n",
              "      <td>29.0</td>\n",
              "      <td>19.0</td>\n",
              "    </tr>\n",
              "    <tr>\n",
              "      <th>3572840</th>\n",
              "      <td>231809</td>\n",
              "      <td>333121</td>\n",
              "      <td>0.0</td>\n",
              "      <td>-1.0</td>\n",
              "      <td>6801300</td>\n",
              "      <td>2017.0</td>\n",
              "      <td>4.0</td>\n",
              "      <td>25.0</td>\n",
              "      <td>0.0</td>\n",
              "      <td>28.0</td>\n",
              "      <td>37.0</td>\n",
              "    </tr>\n",
              "    <tr>\n",
              "      <th>3572841</th>\n",
              "      <td>231809</td>\n",
              "      <td>891916</td>\n",
              "      <td>0.0</td>\n",
              "      <td>-1.0</td>\n",
              "      <td>6809607</td>\n",
              "      <td>2017.0</td>\n",
              "      <td>4.0</td>\n",
              "      <td>25.0</td>\n",
              "      <td>1.0</td>\n",
              "      <td>2.0</td>\n",
              "      <td>43.0</td>\n",
              "    </tr>\n",
              "  </tbody>\n",
              "</table>\n",
              "<p>9729410 rows × 11 columns</p>\n",
              "</div>"
            ],
            "text/plain": [
              "         user_id  product_id  event_type   ad  time_stamp    year  month  \\\n",
              "0              0       36766         1.0 -1.0     2166144  2017.0    4.0   \n",
              "1              0       36766         1.0 -1.0     7574540  2017.0    4.0   \n",
              "2              0       55915         1.0 -1.0     2163119  2017.0    4.0   \n",
              "3              0        4989         1.0 -1.0     2164893  2017.0    4.0   \n",
              "4              0       13180         1.0 -1.0     2165187  2017.0    4.0   \n",
              "...          ...         ...         ...  ...         ...     ...    ...   \n",
              "3572837   231809      359064         0.0 -1.0     6801738  2017.0    4.0   \n",
              "3572838   231809      364829         0.0 -1.0     6809150  2017.0    4.0   \n",
              "3572839   231809      116774         0.0 -1.0     6801472  2017.0    4.0   \n",
              "3572840   231809      333121         0.0 -1.0     6801300  2017.0    4.0   \n",
              "3572841   231809      891916         0.0 -1.0     6809607  2017.0    4.0   \n",
              "\n",
              "          day  hour   min   sec  \n",
              "0         8.0  12.0   9.0   4.0  \n",
              "1        27.0  12.0  55.0  57.0  \n",
              "2         8.0  11.0  57.0  53.0  \n",
              "3         8.0  12.0   4.0  26.0  \n",
              "4         8.0  12.0   5.0  31.0  \n",
              "...       ...   ...   ...   ...  \n",
              "3572837  25.0   0.0  30.0  27.0  \n",
              "3572838  25.0   1.0   0.0  55.0  \n",
              "3572839  25.0   0.0  29.0  19.0  \n",
              "3572840  25.0   0.0  28.0  37.0  \n",
              "3572841  25.0   1.0   2.0  43.0  \n",
              "\n",
              "[9729410 rows x 11 columns]"
            ]
          },
          "execution_count": 12,
          "metadata": {},
          "output_type": "execute_result"
        }
      ],
      "source": [
        "#df_allを訓練データとテストデータに再度分ける\n",
        "new_train = df_all.iloc[:length,:]\n",
        "new_test = df_all.iloc[length:,:]\n",
        "\n",
        "new_train"
      ]
    },
    {
      "cell_type": "code",
      "execution_count": null,
      "metadata": {
        "id": "6HQZphtDLV4J"
      },
      "outputs": [],
      "source": [
        "# Cross Validation用にデータ分ける\n",
        "seed = 0;\n",
        "X_train, X_test, y_train, y_test = train_test_split(new_train, train_y_all, \n",
        "                                                    test_size = .3,\n",
        "                                                    random_state = seed,\n",
        "                                                    # stratify = train_y_all\n",
        "                                                    )"
      ]
    },
    {
      "cell_type": "code",
      "execution_count": null,
      "metadata": {
        "colab": {
          "base_uri": "https://localhost:8080/",
          "height": 411
        },
        "id": "dAwRQLuJLp_l",
        "outputId": "d1f840e4-4aed-470d-e2e2-8073662ce1d6"
      },
      "outputs": [
        {
          "name": "stdout",
          "output_type": "stream",
          "text": [
            "[13:16:08] WARNING: /Users/runner/work/xgboost/xgboost/python-package/build/temp.macosx-10.9-x86_64-cpython-37/xgboost/src/objective/regression_obj.cu:203: reg:linear is now deprecated in favor of reg:squarederror.\n"
          ]
        }
      ],
      "source": [
        "param = {\n",
        "    'max_depth': 6, \n",
        "    'eta': 0.1, \n",
        "    # 'objective': 'multi:softmax',\n",
        "    # 'num_class': len(df_all[\"product_id\"].unique()),\n",
        "    'objective':'reg:linear',\n",
        "    'eval_metric':'rmse'\n",
        "}\n",
        "# objective = \n",
        "# https://qiita.com/FJyusk56/items/0649f4362587261bd57a\n",
        "\n",
        "# XGBoost のモデリング\n",
        "# xgb = XGBRFClassifier()\n",
        "dm_train = xgb.DMatrix(X_train, label=y_train)\n",
        "# xgb.fit(X_train, y_train)\n",
        "model = xgb.train(param, dm_train, num_boost_round=1000)\n",
        "# xgb.score(X_test, y_test)\n",
        "\n",
        "ax = xgb.plot_importance(model)\n",
        "fig = ax.figure\n",
        "fig.set_size_inches(10, 13)"
      ]
    },
    {
      "cell_type": "code",
      "execution_count": null,
      "metadata": {
        "id": "OPqQP2vkNGwN"
      },
      "outputs": [],
      "source": []
    }
  ],
  "metadata": {
    "colab": {
      "provenance": [],
      "include_colab_link": true
    },
    "kernelspec": {
      "display_name": "Python 3 (ipykernel)",
      "language": "python",
      "name": "python3"
    },
    "language_info": {
      "codemirror_mode": {
        "name": "ipython",
        "version": 3
      },
      "file_extension": ".py",
      "mimetype": "text/x-python",
      "name": "python",
      "nbconvert_exporter": "python",
      "pygments_lexer": "ipython3",
      "version": "3.8.13"
    }
  },
  "nbformat": 4,
  "nbformat_minor": 0
}